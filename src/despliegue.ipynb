{
 "cells": [
  {
   "cell_type": "code",
   "execution_count": 7,
   "metadata": {},
   "outputs": [],
   "source": [
    "import json\n",
    "import os\n",
    "\n",
    "from azureml.core import Workspace\n",
    "from azureml.core.model import Model\n",
    "from dotenv import load_dotenv\n",
    "\n",
    "load_dotenv()\n",
    "\n",
    "SUBSCRIPTION_ID = os.getenv(\"SUBSCRIPTION_ID\")\n",
    "\n",
    "if not SUBSCRIPTION_ID:\n",
    "    raise ValueError(\n",
    "        \"Environment variable SUBSCRIPTION_ID is not set.\"\n",
    "        \" Please set it before running the script.\"\n",
    "    )\n",
    "\n",
    "RESOURCE_GROUP = \"idm-dev-azureml-1\"\n",
    "LOCATION = \"eastus\"\n",
    "MODEL_NAME = \"model\""
   ]
  },
  {
   "cell_type": "code",
   "execution_count": 8,
   "metadata": {},
   "outputs": [
    {
     "name": "stderr",
     "output_type": "stream",
     "text": [
      "UserWarning: The resource group doesn't exist or was not provided. AzureML SDK is creating a resource group=idm-dev-azureml-1 in location=eastus using subscription=25847311-05cf-407c-b6b9-6ba67c170430.\n"
     ]
    },
    {
     "name": "stdout",
     "output_type": "stream",
     "text": [
      "Deploying AppInsights with name wshwazurinsightsb60fc619.\n",
      "Deployed AppInsights with name wshwazurinsightsb60fc619. Took 2.73 seconds.\n",
      "Deploying KeyVault with name wshwazurkeyvaultb5bbf515.\n",
      "Deploying StorageAccount with name wshwazurstorage49cd5deb0.\n",
      "Deployed KeyVault with name wshwazurkeyvaultb5bbf515. Took 18.07 seconds.\n",
      "Deploying Workspace with name ws-hw-azureml-2.\n",
      "Deployed StorageAccount with name wshwazurstorage49cd5deb0. Took 22.1 seconds.\n",
      "Deployed Workspace with name ws-hw-azureml-2. Took 21.41 seconds.\n",
      "Registering model model\n"
     ]
    },
    {
     "data": {
      "text/plain": [
       "Model(workspace=Workspace.create(name='ws-hw-azureml-2', subscription_id='25847311-05cf-407c-b6b9-6ba67c170430', resource_group='idm-dev-azureml-1'), name=model, id=model:1, version=1, tags={}, properties={})"
      ]
     },
     "execution_count": 8,
     "metadata": {},
     "output_type": "execute_result"
    }
   ],
   "source": [
    "workspace = Workspace.create(\n",
    "    name=\"ws-hw-azureml-2\",\n",
    "    subscription_id=SUBSCRIPTION_ID,\n",
    "    resource_group=RESOURCE_GROUP,\n",
    "    location=LOCATION,\n",
    ")\n",
    "\n",
    "registered_model = Model.register(\n",
    "    model_path=\"model.pkl\",\n",
    "    model_name=MODEL_NAME,\n",
    "    workspace=workspace,\n",
    ")\n",
    "\n",
    "registered_model"
   ]
  },
  {
   "cell_type": "code",
   "execution_count": 7,
   "metadata": {},
   "outputs": [
    {
     "data": {
      "text/plain": [
       "'[0]'"
      ]
     },
     "execution_count": 7,
     "metadata": {},
     "output_type": "execute_result"
    }
   ],
   "source": [
    "import json\n",
    "import joblib\n",
    "import numpy as np\n",
    "import pandas as pd\n",
    "# from azureml.core.model import Model\n",
    "\n",
    "\n",
    "def init():\n",
    "    global model\n",
    "\n",
    "    # model_path = Model.get_model_path(f\"{MODEL_NAME}.pkl\")\n",
    "    model = joblib.load(f\"{MODEL_NAME}.pkl\")\n",
    "\n",
    "\n",
    "def run(raw_data):\n",
    "    try:  ## Try la predicción.\n",
    "        data = json.loads(raw_data)[\"data\"][0]\n",
    "        data = pd.DataFrame(data)\n",
    "\n",
    "        columns_model = [\n",
    "            \" Borrowing dependency\",\n",
    "            \" Current Liability to Current Assets\",\n",
    "            \" Net Value Per Share (C)\",\n",
    "            \" Non-industry income and expenditure/revenue\",\n",
    "            \" Net Value Growth Rate\",\n",
    "            \" Continuous interest rate (after tax)\",\n",
    "        ]\n",
    "\n",
    "        data_dummies = data[columns_model]\n",
    "        result = model.predict(data_dummies).tolist()\n",
    "\n",
    "        return json.dumps(result)\n",
    "    except Exception as e:\n",
    "        print(\"Error in prediction:\", str(e))\n",
    "        return json.dumps(str(e))\n",
    "\n",
    "\n",
    "init()\n",
    "\n",
    "result = run(\n",
    "    json.dumps(\n",
    "        {\n",
    "            \"data\": [\n",
    "                {\n",
    "                    \" Borrowing dependency\": [10000000],\n",
    "                    \" Current Liability to Current Assets\": [10000000],\n",
    "                    \" Net Value Per Share (C)\": [1000],\n",
    "                    \" Non-industry income and expenditure/revenue\": [10000000],\n",
    "                    \" Net Value Growth Rate\": [10000000],\n",
    "                    \" Continuous interest rate (after tax)\": [10000000],\n",
    "                }\n",
    "            ]\n",
    "        }\n",
    "    )\n",
    ")\n",
    "\n",
    "result"
   ]
  },
  {
   "cell_type": "code",
   "execution_count": 9,
   "metadata": {},
   "outputs": [],
   "source": [
    "################ score.py ###################\n",
    "\n",
    "\n",
    "scorepy = f\"\"\"\n",
    "import json\n",
    "import joblib\n",
    "import numpy as np\n",
    "import pandas as pd\n",
    "from azureml.core.model import Model\n",
    "\n",
    "def init():\n",
    "  global model\n",
    "  model_path = Model.get_model_path('{MODEL_NAME}')\n",
    "  model = joblib.load(model_path)\n",
    "\n",
    "def run(raw_data):\n",
    "  try: ## Try la predicción.\n",
    "    data = json.loads(raw_data)['data'][0]\n",
    "    data = pd.DataFrame(data)\n",
    "\n",
    "    columns_model = [\n",
    "      \" Borrowing dependency\",\n",
    "      \" Current Liability to Current Assets\",                       \n",
    "      \" Net Value Per Share (C)\",                                  \n",
    "      \" Non-industry income and expenditure/revenue\",              \n",
    "      \" Net Value Growth Rate\",                                    \n",
    "      \" Continuous interest rate (after tax)\",\n",
    "    ]\n",
    "\n",
    "    data_dummies = data[columns_model]\n",
    "    result = model.predict(data_dummies).tolist()\n",
    "\n",
    "    return json.dumps(result)\n",
    "  except Exception as e:\n",
    "    return json.dumps(str(e))\n",
    "\"\"\"\n",
    "\n",
    "with open(\"score.py\", \"w\") as file:\n",
    "    file.write(scorepy)"
   ]
  },
  {
   "cell_type": "code",
   "execution_count": 10,
   "metadata": {},
   "outputs": [
    {
     "name": "stderr",
     "output_type": "stream",
     "text": [
      "/var/folders/y2/d02sw9ns6r772cc_ln_3rgym0000gn/T/ipykernel_5211/106412736.py:29: FutureWarning: azureml.core.model:\n",
      "To leverage new model deployment capabilities, AzureML recommends using CLI/SDK v2 to deploy models as online endpoint, \n",
      "please refer to respective documentations \n",
      "https://docs.microsoft.com/azure/machine-learning/how-to-deploy-managed-online-endpoints /\n",
      "https://docs.microsoft.com/azure/machine-learning/how-to-attach-kubernetes-anywhere \n",
      "For more information on migration, see https://aka.ms/acimoemigration \n",
      "To disable CLI/SDK v1 deprecation warning set AZUREML_LOG_DEPRECATION_WARNING_ENABLED to 'False'\n",
      "  service = Model.deploy(\n"
     ]
    }
   ],
   "source": [
    "## STEP 2: Inference configuration: the blueprints for the German carpenter about how to build your furniture.\n",
    "\n",
    "from azureml.core.conda_dependencies import CondaDependencies\n",
    "from azureml.core.environment import Environment\n",
    "from azureml.core.model import InferenceConfig\n",
    "from azureml.core.webservice import AciWebservice\n",
    "\n",
    "venv = Environment(\"env-hw-2\")\n",
    "\n",
    "## Asegúrense de coordinarse con el departamento de modelos para incluir los paquetes correctos. Si no, BOOM!\n",
    "venv.python.conda_dependencies = CondaDependencies.create(\n",
    "    conda_packages=[\n",
    "        \"pandas\",\n",
    "        \"scikit-learn\",\n",
    "    ]\n",
    ")\n",
    "\n",
    "inference_config = InferenceConfig(\n",
    "    environment=venv,\n",
    "    entry_script=\"score.py\",\n",
    ")\n",
    "\n",
    "## ASEGÚRENSE DE ASIGNAR SUFICIENTE MADERA PARA SUS MUEBLES.\n",
    "aci_config = AciWebservice.deploy_configuration(\n",
    "    cpu_cores=2,\n",
    "    memory_gb=4,\n",
    ")\n",
    "\n",
    "service = Model.deploy(\n",
    "    workspace=workspace,\n",
    "    name=\"service-2\",\n",
    "    models=[registered_model],\n",
    "    inference_config=inference_config,\n",
    "    deployment_config=aci_config,\n",
    "    overwrite=True,\n",
    ")"
   ]
  },
  {
   "cell_type": "code",
   "execution_count": null,
   "metadata": {},
   "outputs": [],
   "source": [
    "service.wait_for_deployment()\n",
    "\n",
    "scoring_uri = service.scoring_uri\n",
    "\n",
    "scoreuri = json.dumps({\"URI\": [scoring_uri]})\n",
    "file = open(\"uri.json\", \"w\")\n",
    "\n",
    "file.write(scoreuri)\n",
    "file.close()\n"
   ]
  },
  {
   "cell_type": "code",
   "execution_count": 6,
   "metadata": {},
   "outputs": [
    {
     "name": "stdout",
     "output_type": "stream",
     "text": [
      "None\n"
     ]
    }
   ],
   "source": [
    "print(service.get_logs())"
   ]
  }
 ],
 "metadata": {
  "kernelspec": {
   "display_name": ".venv",
   "language": "python",
   "name": "python3"
  },
  "language_info": {
   "codemirror_mode": {
    "name": "ipython",
    "version": 3
   },
   "file_extension": ".py",
   "mimetype": "text/x-python",
   "name": "python",
   "nbconvert_exporter": "python",
   "pygments_lexer": "ipython3",
   "version": "3.11.11"
  }
 },
 "nbformat": 4,
 "nbformat_minor": 2
}
