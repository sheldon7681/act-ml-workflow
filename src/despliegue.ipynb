{
 "cells": [
  {
   "cell_type": "code",
   "execution_count": 4,
   "metadata": {},
   "outputs": [
    {
     "name": "stdout",
     "output_type": "stream",
     "text": [
      "Cleaning up past default Resource Group Deployments on the subscription to avoid limit of 10\n",
      "Deleting past Resource Group Deployment with name: DeployResourceGroup-e03bdb9407\n",
      "Deploying KeyVault with name workspackeyvault75d13b3a.\n",
      "Deploying StorageAccount with name workspacstoragef3dbd11f8.\n",
      "Deploying AppInsights with name workspacinsights0023385f.\n",
      "Deployed AppInsights with name workspacinsights0023385f. Took 55.32 seconds.\n",
      "Deploying Workspace with name workspace.\n",
      "Deployed Workspace with name workspace. Took 43.96 seconds.\n",
      "Registering model model\n"
     ]
    }
   ],
   "source": [
    "\n",
    "\n",
    "## STEP 1: Set up the workspace.\n",
    "\n",
    "# import json\n",
    "import os\n",
    "from dotenv import load_dotenv\n",
    "load_dotenv()\n",
    "\n",
    "my_secret = os.getenv(\"MY_SECRET\")\n",
    "\n",
    "#GETTING MY ID:\n",
    "#id = open('id_CONFIDENTIAL.json', 'r')\n",
    "#mi = json.load(id)\n",
    "my_id = my_secret\n",
    "\n",
    "from azureml.core import Workspace\n",
    "\n",
    "ws = Workspace.create(name=\"workspace\",\n",
    "                      subscription_id = my_id,\n",
    "                      resource_group = \"clasemlcloud\",\n",
    "                      location = \"centralindia\")\n",
    "\n",
    "from azureml.core.model import Model\n",
    "\n",
    "mname = \"model\"\n",
    "registered_model = Model.register(model_path=\"model.pkl\",\n",
    "                                  model_name=mname,\n",
    "                                  workspace=ws)\n",
    "\n"
   ]
  },
  {
   "cell_type": "code",
   "execution_count": null,
   "metadata": {},
   "outputs": [],
   "source": [
    "\n",
    "\n",
    "################ score.py ###################\n",
    "\n",
    "umb = open(\"umbral.json\", \"r\")\n",
    "umb = json.load(umb)\n",
    "umbral = umb[\"umbral\"][0]\n",
    "\n",
    "scorepy = f\"\"\"\n",
    "import json\n",
    "import joblib\n",
    "import numpy as np\n",
    "import pandas as pd\n",
    "from azureml.core.model import Model\n",
    "\n",
    "def init():\n",
    "  global model\n",
    "  model_path = Model.get_model_path('{mname}')\n",
    "  model = joblib.load(model_path)\n",
    "\n",
    "def sigmoid(x):\n",
    "  return [1 / (1 + np.exp(-y)) for y in x]\n",
    "\n",
    "def run(raw_data):\n",
    "  try: ## Try la predicción.\n",
    "    data = json.loads(raw_data)['data'][0]\n",
    "    data = pd.DataFrame(data)\n",
    "\n",
    "    data_dummies = data.drop([\"RowNumber\", \"CustomerId\", \"Surname\", \"Geography\", \"Gender\", \"Card Type\"], axis=1) ## INCLUIR AQUÍ LO DE ZORROUNO\n",
    "\n",
    "    result = model.predict(data_dummies).tolist()\n",
    "    result_sigmoid = sigmoid(result)\n",
    "    umbral = {umbral}\n",
    "    result_finals = [1 if x > umbral else 0 for x in result_sigmoid]\n",
    "\n",
    "    return json.dumps(result_finals)\n",
    "  except Exception as e:\n",
    "    return json.dumps(str(e))\n",
    "\"\"\"\n",
    "\n",
    "file_score = open(\"score.py\", \"w\")\n",
    "file_score.write(scorepy)\n",
    "file_score.close()\n",
    "\n"
   ]
  }
 ],
 "metadata": {
  "kernelspec": {
   "display_name": ".venv",
   "language": "python",
   "name": "python3"
  },
  "language_info": {
   "codemirror_mode": {
    "name": "ipython",
    "version": 3
   },
   "file_extension": ".py",
   "mimetype": "text/x-python",
   "name": "python",
   "nbconvert_exporter": "python",
   "pygments_lexer": "ipython3",
   "version": "3.11.5"
  }
 },
 "nbformat": 4,
 "nbformat_minor": 2
}
